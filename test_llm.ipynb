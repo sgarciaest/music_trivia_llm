{
 "cells": [
  {
   "cell_type": "code",
   "execution_count": 1,
   "id": "ca9f8a20",
   "metadata": {},
   "outputs": [],
   "source": [
    "import streamlit as st\n",
    "import os\n",
    "import random\n",
    "from collections import Counter\n",
    "from datetime import datetime\n",
    "\n",
    "from spotify_utils import (\n",
    "    get_auth_url,\n",
    "    get_token_from_code,\n",
    "    get_spotify_client_from_token,\n",
    "    get_cached_spotify_client,\n",
    "    is_token_cached,\n",
    "    get_user_saved_tracks\n",
    ")\n",
    "from cohere_utils import get_trivia_question_from_prompt\n",
    "from trivia_generator import generate_trivia_prompt, get_album_and_artist_strengths"
   ]
  },
  {
   "cell_type": "code",
   "execution_count": 2,
   "id": "d92cb920",
   "metadata": {},
   "outputs": [],
   "source": [
    "import json\n",
    "\n",
    "# Read from the file\n",
    "with open(\"tracks.json\", \"r\", encoding=\"utf-8\") as f:\n",
    "    tracks = json.load(f)\n",
    "\n",
    "# Now you can use the 'tracks' variable as a normal Python object\n"
   ]
  },
  {
   "cell_type": "code",
   "execution_count": 3,
   "id": "b211f000",
   "metadata": {},
   "outputs": [
    {
     "name": "stdout",
     "output_type": "stream",
     "text": [
      "{'Big Calm', 'Loveless', 'Psyence Fiction', 'Heaven or Las Vegas', 'The Unwavering Hand', 'Exit Planet Dust', 'A Hundred Days Off', 'Begin Again', \"Bread 'n' Butter\", 'II', '808s & Heartbreak', 'Cheat Codes', 'Selected Ambient Works 85-92', 'Art in the Age of Automation', 'Honestly, Nevermind', 'Travelling Without Moving (Remastered)', 'Lianne La Havas', 'Mr. Morale & The Big Steppers', 'MELTING MOMENT', 'The Cross Of Changes', 'DAYS BEFORE RODEO', 'Un Verano Sin Ti', 'Poligamia', 'Una Nueva Esperanza IV', 'Rival Dealer', 'Kid A', 'Sd-2', 'House of Sugar', 'Bloodflowers', 'Endtroducing.....', \"Man On The Moon: The End Of Day (Int'l Version)\", 'Amor Amarillo', 'SOS', 'Birds In The Trap Sing McKnight', 'Discovery', 'Morning View', 'The Head On The Door', 'good kid, m.A.A.d city', 'Le Roi Est Mort, Vive Le Roi!', 'TOTAL', 'Trip At Knight', 'Brown Sugar', 'The College Dropout', \"I've Been Trying To Tell You\", 'Gemini Rights', 'Swimming', 'Glitter', 'Foxbase Alpha', 'Bocanada', 'Paradise Again', 'Bloodsport', 'SATURATION', 'Stupid Dream', 'House Of Balloons (Original)', 'Man On The Moon: The End Of Day', 'A Museum Of Contradiction', 'Take Care (Deluxe)', 'SUPERNOVA', 'Premiers Symptômes', 'Invisible Touch', 'AT.LONG.LAST.A$AP', 'Achtung Baby (Deluxe Edition)', 'ALICIA', 'Lunatic Harness', 'KIDS SEE GHOSTS', 'Bad Cameo', 'MONTERO', 'i,i', 'Debut', 'Modus Vivendi', 'Like The Deserts Miss The Rain', 'Man On The Moon III: The Chosen', 'Songs Of A Lost World', 'Casa', 'Two Star & The Dream Police', 'The Richest Man In Babylon', '10 000 Hz Legend', \"The Life Of Pi'erre 5\", 'Tidal', 'In Rainbows', 'Talkie Walkie', 'Fast Asleep', 'WASTELAND', 'Hounds Of Love', 'Rodeo', 'Absolutely', 'Calling Out Of Context', 'Help', 'Actual Life (April 14 - December 17 2020)', \"A Beginner's Guide (Best Of)\", 'Ho Tenim Tot', 'Adore (Super Deluxe)', 'To Pimp A Butterfly', 'Little Earthquakes (Deluxe Edition)', '4:44', 'Remember Me? EP from Mp', 'Bloom', 'Certified Lover Boy', 'High', 'The Melodic Blue', 'Sd-1', 'LONG.LIVE.A$AP (Deluxe Version)', 'Manual para los fieles', 'Modal Soul', 'lately I feel EVERYTHING', 'Oncle Jazz', 'Wish', 'Licensed To Ill', 'The Seeds Of Love (Super Deluxe)', 'Mezzanine', 'LIVE.LOVE.A$AP', 'Tre', 'Walking Wounded (Deluxe Edition)', 'Rōnin I', 'Vivo (En Vivo)', 'Machina / The Machines Of God', 'Protection', 'Post', 'Farewell, Starlite!', 'Hats', 'XTRMNTR (Expanded Edition)', 'Music Has The Right To Children', 'Soldier of Love', 'ATUM', 'You Can’t Kill Me', 'Faith', 'Strangers (feat. A$AP Rocky and Run The Jewels)', 'Battle Studies', 'Fuck The World', 'Man On The Moon II: The Legend Of Mr. Rager', 'Blue Lines (2012 Mix/Master)', 'My Beautiful Dark Twisted Fantasy', 'The Head Hurts but the Heart Knows the Truth', 'OK Computer', 'DAYTONA', 'Tracy Chapman', 'Untrue', 'The Bends', 'NASIR', 'El Poeta Halley', 'BRAT', 'Ultrasónica', 'Let’s Start Here.', 'Knee-Deep In the North Sea', 'Ídolo', 'Jesus Is Born', 'Un Soplo En El Corazón', 'Ctrl', 'DVTÈ', 'soñao', 'Melody A.M.', 'Immunity', 'Coloring Book', 'A Moon Shaped Pool', 'The Big Day', 'Avalancha', 'Yeezus', 'Love Deluxe', 'Siempre', 'Actual Life 2 (February 2 - October 15 2021)', 'DIE FOR MY BITCH', 'Melt My Eyez See Your Future', 'Black Moses', 'Cupid Deluxe', 'MORE D4TA', 'Surrender'}\n",
      "{'Thievery Corporation', 'Pi’erre Bourne', \"D'Angelo\", 'Frank Ocean', 'The Smashing Pumpkins', 'ROSALÍA', 'The Cure', 'Chance the Rapper', 'Mk.gee', 'Moderat', 'BROCKHAMPTON', 'Headache', 'Sade', 'Funki Porcini', 'Lianne La Havas', 'SZA', 'Tears For Fears', 'Macabre Plaza', 'Beastie Boys', 'Tori Amos', 'Querido', 'Phil Collins', 'Sunday Service Choir', 'Air', 'Baby Keem', 'Travis Scott', 'Agorazein', 'Orbital', 'Alex G', 'The Dining Rooms', 'Blood Orange', 'Massive Attack', 'RÜFÜS DU SOL', 'Vegyn', 'Yann Tiersen', 'The Blue Nile', 'Els Amics De Les Arts', 'Soda Stereo', 'Loukeman', 'Future', 'Men I Trust', 'Ralphie Choo', 'Sneaker Pimps', 'La Casa Azul', 'Porcupine Tree', 'Burial', 'Heroes Del Silencio', 'Drake', 'Los Piratas', 'New Order', 'Lil Yachty', 'Tyler, The Creator', 'Denzel Curry', 'Swedish House Mafia', 'Boards of Canada', '070 Shake', 'Joan Dausà', 'Charli xcx', 'Kanye West', 'Pusha T', 'Jamiroquai', 'Bonobo', 'Bon Iver', 'Nas', 'Björk', 'Bad Bunny', 'James Blake', 'UNKLE', 'Underworld', 'Mac Miller', 'Kid Cudi', 'µ-Ziq', 'Cocteau Twins', 'Ben Böhmer', 'Kendrick Lamar', 'Radiohead', 'DJ Shadow', 'Fiona Apple', 'Enigma', 'Alicia Keys', 'Primal Scream', 'Dijon', 'Gustavo Cerati', 'Francis and the Lights', 'John Mayer', 'Lana Del Rey', 'Nujabes', 'Everything But The Girl', 'Portishead', 'Morcheeba', 'JAY-Z', 'Genesis', 'U2', 'Clairo', 'The Weeknd', 'Fred again..', 'Brent Faiyaz', 'Aphex Twin', 'A$AP Rocky', 'C. Tangana', 'Family', 'Jaden', 'Antonio Vega', 'Danger Mouse', 'Saint Etienne', 'Kate Bush', 'Portico Quartet', 'Steve Lacy'}\n"
     ]
    }
   ],
   "source": [
    "strong_albums, strong_artists = get_album_and_artist_strengths(tracks)\n",
    "print(strong_albums)\n",
    "print(strong_artists)"
   ]
  },
  {
   "cell_type": "code",
   "execution_count": 4,
   "id": "8fdfd969",
   "metadata": {},
   "outputs": [
    {
     "data": {
      "text/plain": [
       "{'title': 'Numb',\n",
       " 'artist': 'Men I Trust',\n",
       " 'album': 'Numb',\n",
       " 'release_date': '2019-04-12'}"
      ]
     },
     "execution_count": 4,
     "metadata": {},
     "output_type": "execute_result"
    }
   ],
   "source": [
    "main_track = random.choice(tracks)\n",
    "main_track"
   ]
  },
  {
   "cell_type": "code",
   "execution_count": 5,
   "id": "c71d9691",
   "metadata": {},
   "outputs": [
    {
     "name": "stdout",
     "output_type": "stream",
     "text": [
      "You are a smart music trivia generator.\n",
      "\n",
      "Your task is to create a single multiple-choice question (with 4 answer options) based on the song information below.\n",
      "\n",
      "**Guidelines**:\n",
      "- The question must be factually correct and based on real knowledge of the song, artist, or album.\n",
      "- In general the question should be focused on the song info provided (title, artist, album, release date). If specified below, you can (or not, up to you) generate specific questions about an album or an artist forgetting the song, and using your music knowledge to do it.\n",
      "\n",
      "- Do NOT ask about the album — the user may not know it well enough.\n",
      "- You ARE allowed to ask about the artist.  The user probably has sufficient knowledge on the artist based on the number of saved songs of the artist in his library. \n",
      "\n",
      "- Make distractors challenging — avoid random or obviously wrong answers. Use your own music knowledge to make them close but incorrect (e.g., artists from the same genre/era, songs with similar names, albums from similar years).\n",
      "- Always generate exactly 4 options and specify the correct answer.\n",
      "- Do NOT include any explanation or commentary.\n",
      "- When showing release dates options, don't show options with a full date (e.g. 2022-03-14). Show only years.\n",
      "- Do NOT use negation (e.g. \"was NOT released\") to form questions. Avoid reverse logic or trick-question phrasing.\n",
      "- Do not create questions that refer to songs absent from the provided set of albums. For instance, avoid questions such as: “Which of the following albums by (artist) does not include the song (title)?”\n",
      "- If a question focuses on a specific song, include all relevant details from the available metadata except the one being asked about. For example:\n",
      "    - If the question is about the release year, also mention the song's artist and album name.\n",
      "    - If asking which album a song appears on, also provide the artist name and release year.\n",
      "- The main sentence of each question must explicitly reference at least one data point from the provided song metadata—either the song title, album name, or artist name. You may use external music knowledge to construct context or plausible answer choices, but the core focus of the question must remain tied to actual items present in the provided information.\n",
      "\n",
      "**Song Information**:\n",
      "- Title: \"Numb\"\n",
      "- Artist: \"Men I Trust\"\n",
      "- Album: \"Numb\"\n",
      "- Release Date: \"2019-04-12\"\n",
      "\n",
      "Respond ONLY with a valid JSON object, and wrap your response in triple backticks with the `json` language tag, like this:\n",
      "\n",
      "```json\n",
      "{\n",
      "  \"question\": \"...\",\n",
      "  \"options\": [\"...\", \"...\", \"...\", \"...\"],\n",
      "  \"answer\": \"...\"\n",
      "}\n"
     ]
    }
   ],
   "source": [
    "prompt = generate_trivia_prompt(main_track, strong_albums, strong_artists)\n",
    "print(prompt)"
   ]
  },
  {
   "cell_type": "code",
   "execution_count": 10,
   "id": "5a778a3d",
   "metadata": {},
   "outputs": [
    {
     "data": {
      "text/plain": [
       "{'question': 'Which of the following artists did NOT release a song titled \"Numb\"?',\n",
       " 'options': ['Linkin Park', 'Jay-Z', 'Marshmello', 'Men I Trust'],\n",
       " 'answer': 'Men I Trust'}"
      ]
     },
     "execution_count": 10,
     "metadata": {},
     "output_type": "execute_result"
    }
   ],
   "source": [
    "trivia = get_trivia_question_from_prompt(prompt)\n",
    "trivia"
   ]
  }
 ],
 "metadata": {
  "kernelspec": {
   "display_name": "miba-env",
   "language": "python",
   "name": "python3"
  },
  "language_info": {
   "codemirror_mode": {
    "name": "ipython",
    "version": 3
   },
   "file_extension": ".py",
   "mimetype": "text/x-python",
   "name": "python",
   "nbconvert_exporter": "python",
   "pygments_lexer": "ipython3",
   "version": "3.11.11"
  }
 },
 "nbformat": 4,
 "nbformat_minor": 5
}
