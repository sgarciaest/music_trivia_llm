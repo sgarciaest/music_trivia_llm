{
 "cells": [
  {
   "cell_type": "markdown",
   "metadata": {
    "deletable": false,
    "editable": false,
    "nbgrader": {
     "cell_type": "markdown",
     "checksum": "6bab5dc4a9ae1fb8959e4be26f0ff10a",
     "grade": false,
     "grade_id": "cell-aad0d9693d861220",
     "locked": true,
     "schema_version": 3,
     "solution": false,
     "task": false
    }
   },
   "source": [
    "# Practice: Spotify's API\n",
    "\n",
    "This notebook contains a set of exercises that will guide you through the different steps of this practice exercise. Devise solutions that are code-based, i.e. not hard-coded or manually computed. \n",
    "\n",
    "<div class=\"alert alert-success\">The aim of this exercise is to create and save a dataset containing information about every song in a given playlist by requesting data from Spotify's API.</div>"
   ]
  },
  {
   "cell_type": "markdown",
   "metadata": {
    "deletable": false,
    "editable": false,
    "nbgrader": {
     "cell_type": "markdown",
     "checksum": "e1efaab6e57a3d65ffcb540555ef9a2b",
     "grade": false,
     "grade_id": "cell-e0139011318f6903",
     "locked": true,
     "schema_version": 3,
     "solution": false,
     "task": false
    }
   },
   "source": [
    "## Getting client credentials\n",
    "\n",
    "Spotify's API uses an Authentication scheme called OAuth. Hence, before starting to make requests, you need to get your client credentials to the Spotify API. \n",
    "\n",
    "To do so, you need to have a Spotify account (free or paid). If you don't have one yet, please create a free account before moving on. Once you do, head over to Spotify for Developers, open your [Dashboard](https://developer.spotify.com/dashboard/) and log in with your account. \n",
    "\n",
    "Click on “CREATE APP”. Fill in the name and description for your project. Under \"Redirect URI\", enter \"http://localhost:8888/callback\" (don't worry about this, as it won't be used). Finally, it the tick boxes, select \"Web API\". \n",
    "\n",
    "Once your App has been created, you should see the app name in the Dashboard. Click on it, then on \"Settings\", and then on \"View Client Secret\".  The numbers for “Client ID” and “Client Secret” on correspond to your client credentials."
   ]
  },
  {
   "cell_type": "markdown",
   "metadata": {
    "deletable": false,
    "editable": false,
    "nbgrader": {
     "cell_type": "markdown",
     "checksum": "1497ad5d6fb2d5e0a38f58aa1f5c6d0b",
     "grade": false,
     "grade_id": "cell-4655de3fb67ffa5",
     "locked": true,
     "schema_version": 3,
     "solution": false,
     "task": false
    }
   },
   "source": [
    "<div class=\"alert alert-info\">Create two new variables, <b>client_id</b> and <b>client_secret</b>, that store your ID and Key, respectively</div>"
   ]
  },
  {
   "cell_type": "code",
   "execution_count": 30,
   "metadata": {
    "deletable": false,
    "nbgrader": {
     "cell_type": "code",
     "checksum": "ee951a884eeb6427e80e119f6b2aaf26",
     "grade": false,
     "grade_id": "cell-a8f99e4278237a63",
     "locked": false,
     "schema_version": 3,
     "solution": true,
     "task": false
    }
   },
   "outputs": [],
   "source": [
    "client_id = \"94f61c00d73e479f9127b55fc83e68d8\"\n",
    "client_secret = \"610ee0f6129d44649b7ff5449c3084dd\""
   ]
  },
  {
   "cell_type": "markdown",
   "metadata": {
    "deletable": false,
    "editable": false,
    "nbgrader": {
     "cell_type": "markdown",
     "checksum": "61428db5788c061a0a0c4463bf36744c",
     "grade": false,
     "grade_id": "cell-49933e4db6b9f0fc",
     "locked": true,
     "schema_version": 3,
     "solution": false,
     "task": false
    }
   },
   "source": [
    "These are the keys that you will use throughout the remaining of the assignment.\n",
    "\n"
   ]
  },
  {
   "cell_type": "markdown",
   "metadata": {
    "deletable": false,
    "editable": false,
    "nbgrader": {
     "cell_type": "markdown",
     "checksum": "b4eea321904500000f1b6a7d90bd3c0b",
     "grade": false,
     "grade_id": "cell-64dcea57f1ef17bb",
     "locked": true,
     "schema_version": 3,
     "solution": false,
     "task": false
    }
   },
   "source": [
    "Great! We are good to go. Next step is getting an access token.\n",
    "\n",
    "## Getting an access token / key\n",
    "\n",
    "In order to access the various endpoints of the Spotify API, we need to pass an access token. \n",
    "\n",
    "To get one, we need to pass a ```POST``` request with our client credentials. This request will create a token resource in the server and respond back with it. We can build this ```POST``` request using ```requests``` library. In other words, the first API call in the spotify API is the call to get the access token. \n",
    "\n",
    "<div class=\"alert alert-info\">Run the following cell to built your POST request</div>"
   ]
  },
  {
   "cell_type": "code",
   "execution_count": 31,
   "metadata": {
    "deletable": false,
    "editable": false,
    "nbgrader": {
     "cell_type": "code",
     "checksum": "6b7aba733f6bd1d2a2761526fe6d951f",
     "grade": false,
     "grade_id": "cell-b8e8ca29681cdd42",
     "locked": true,
     "schema_version": 3,
     "solution": false,
     "task": false
    }
   },
   "outputs": [
    {
     "data": {
      "text/plain": [
       "{'access_token': 'BQDFH_3Nr-KEFASHWw-RTfUcOgTtiXybGpVAejKLYgeAaMnOhMTgu5QXhIiXvzPPMBnYX7IGWkvgGJiS9PlXzlHcLkDFhoeSB8ck6nvYRbYywBNGbuY',\n",
       " 'token_type': 'Bearer',\n",
       " 'expires_in': 3600}"
      ]
     },
     "execution_count": 31,
     "metadata": {},
     "output_type": "execute_result"
    }
   ],
   "source": [
    "import requests\n",
    "\n",
    "# URL for token resource\n",
    "auth_url = 'https://accounts.spotify.com/api/token'\n",
    "\n",
    "# request body\n",
    "params = {'grant_type': 'client_credentials',\n",
    "          'client_id': client_id,\n",
    "          'client_secret': client_secret}\n",
    "        #   'market': \"ES\"}\n",
    "\n",
    "# POST the request\n",
    "response =  requests.post(auth_url, data=params)\n",
    "token_response = response.json()\n",
    "token_response"
   ]
  },
  {
   "cell_type": "markdown",
   "metadata": {
    "deletable": false,
    "editable": false,
    "nbgrader": {
     "cell_type": "markdown",
     "checksum": "46f10215736bfccf94a4d67889154434",
     "grade": false,
     "grade_id": "cell-4655de3f67ffa5",
     "locked": true,
     "schema_version": 3,
     "solution": false,
     "task": false
    }
   },
   "source": [
    "Take a look at the response you obtained. The access_token you just retrieved will expire after one hour.\n",
    "\n",
    "<div class=\"alert alert-info\">Retrieve your token from <b>auth_response</b> and save it in a new variable called <b>access_token</b>. </div>\n",
    "\n",
    "<div class=\"alert alert-warning\">Make sure you define the <i>access_token</i> variable such that it will be updated each time your code is run from scratch, i.e. make sure it hasn't expired by the time your code is graded.</div>"
   ]
  },
  {
   "cell_type": "code",
   "execution_count": 32,
   "metadata": {
    "deletable": false,
    "nbgrader": {
     "cell_type": "code",
     "checksum": "7e315e1b5f356569bf6342699c8a86ef",
     "grade": false,
     "grade_id": "cell-a36c1578e8991a09",
     "locked": false,
     "schema_version": 3,
     "solution": true,
     "task": false
    }
   },
   "outputs": [
    {
     "data": {
      "text/plain": [
       "'BQDFH_3Nr-KEFASHWw-RTfUcOgTtiXybGpVAejKLYgeAaMnOhMTgu5QXhIiXvzPPMBnYX7IGWkvgGJiS9PlXzlHcLkDFhoeSB8ck6nvYRbYywBNGbuY'"
      ]
     },
     "execution_count": 32,
     "metadata": {},
     "output_type": "execute_result"
    }
   ],
   "source": [
    "access_token = token_response[\"access_token\"]\n",
    "access_token"
   ]
  },
  {
   "cell_type": "markdown",
   "metadata": {
    "deletable": false,
    "editable": false,
    "nbgrader": {
     "cell_type": "markdown",
     "checksum": "9edab5502cdaef07562131f21a1c962f",
     "grade": false,
     "grade_id": "cell-4933e4db6b9f0fc",
     "locked": true,
     "schema_version": 3,
     "solution": false,
     "task": false
    }
   },
   "source": [
    "As above, the access token will be used throughout the remaining of the assignment.\n",
    "\n"
   ]
  },
  {
   "cell_type": "markdown",
   "metadata": {
    "deletable": false,
    "editable": false,
    "nbgrader": {
     "cell_type": "markdown",
     "checksum": "e8a702de4e29d1c8f452f0323ce314de",
     "grade": false,
     "grade_id": "cell-bf970f92289da11f",
     "locked": true,
     "schema_version": 3,
     "solution": false,
     "task": false
    }
   },
   "source": [
    "This token is your golden ticket to access Spotify's API. A copy of this string is now stored in the server, so that everytime you make a request to the API the server will check that the token you provide and the one it has in store match.\n",
    "\n",
    "<img src=\"https://www.dropbox.com/s/hgb02k4h1mtdv22/header.png?raw=1\" width=\"500\">\n",
    "\n",
    "Similar to the Cohere API, Spotify's API expects you to include your access token in the requests header. We won't use headers in this course and this is the only exception: when some APIs require to specify the authentication in the header. Hence, the header has already been formatted for you. \n",
    "\n",
    "<div class=\"alert alert-info\">Run the following cell to save the header in a new variable so that you can use it later on.</div>"
   ]
  },
  {
   "cell_type": "code",
   "execution_count": 33,
   "metadata": {
    "deletable": false,
    "editable": false,
    "nbgrader": {
     "cell_type": "code",
     "checksum": "285adc76fcbaf501872498b0ab6831e9",
     "grade": false,
     "grade_id": "cell-833fb722a3560430",
     "locked": true,
     "schema_version": 3,
     "solution": false,
     "task": false
    }
   },
   "outputs": [],
   "source": [
    "headers = {'Authorization': 'Bearer {token}'.format(token=access_token)}"
   ]
  },
  {
   "cell_type": "markdown",
   "metadata": {
    "deletable": false,
    "editable": false,
    "nbgrader": {
     "cell_type": "markdown",
     "checksum": "af98ff50781069b34e25c69aca3b3ce4",
     "grade": false,
     "grade_id": "cell-d5a8d2ff0308a4e1",
     "locked": true,
     "schema_version": 3,
     "solution": false,
     "task": false
    }
   },
   "source": [
    "## Poking around\n",
    "\n",
    "Spotify's API provides numerous endpoints to access things like album listings, artist information, playlists, even Spotify-generated audio analysis of individual tracks, which include their time signature or measurements such as their “danceability” or \"loudness\". You can take a look at all the information available by reading the [Docs](https://developer.spotify.com/documentation/web-api/reference/). In this assignment you will use several of these endpoints.\n",
    "\n",
    "In order to get a feel of how the API works, we will begin by making a ```GET``` request to the ```audio-features``` endpoint to extract data for a specific track. In particular, let's retrieve all the information for Radiohead's *Creep* song. \n",
    "\n",
    "The first thing you need is to identify the appropriate URL or path to direct your request to. The urls for all Spotify API endpoints follow the same structure. They all use the base URL for the API and are then defined as a concatenation of ```base_url + endpoint```. Sometimes, you will also need to provide some additional information as part of the URL. In the case of ```audio-features```, however, it is enough with just the ```base_url``` and the ```endpoint``` name.\n",
    "\n",
    "The ```base_url``` is defined below:"
   ]
  },
  {
   "cell_type": "code",
   "execution_count": 34,
   "metadata": {
    "deletable": false,
    "editable": false,
    "nbgrader": {
     "cell_type": "code",
     "checksum": "57e51c779db2018952d09477ceb53b3f",
     "grade": false,
     "grade_id": "cell-d3cb0c4134cdbf9b",
     "locked": true,
     "schema_version": 3,
     "solution": false,
     "task": false
    }
   },
   "outputs": [],
   "source": [
    "base_url = 'https://api.spotify.com/v1'"
   ]
  },
  {
   "cell_type": "markdown",
   "metadata": {
    "deletable": false,
    "editable": false,
    "nbgrader": {
     "cell_type": "markdown",
     "checksum": "c95a00ff95482cfcb3251112ed5cd834",
     "grade": false,
     "grade_id": "cell-4655de3f6ffa5",
     "locked": true,
     "schema_version": 3,
     "solution": false,
     "task": false
    }
   },
   "source": [
    "<div class=\"alert alert-info\">Define the url for the audio-features endpoint by following the instructions above. Store it in a variable called <b>audio_features_endpoint</b>.</div>"
   ]
  },
  {
   "cell_type": "code",
   "execution_count": 35,
   "metadata": {
    "deletable": false,
    "nbgrader": {
     "cell_type": "code",
     "checksum": "51e030ad7bd50b1c76e00f6c9005c5dd",
     "grade": false,
     "grade_id": "cell-ca3d8e649e362237",
     "locked": false,
     "schema_version": 3,
     "solution": true,
     "task": false
    }
   },
   "outputs": [],
   "source": [
    "audio_features_endpoint = \"audio-features\""
   ]
  },
  {
   "cell_type": "markdown",
   "metadata": {
    "deletable": false,
    "editable": false,
    "nbgrader": {
     "cell_type": "markdown",
     "checksum": "b00f3bbccaf59c7f65fb111fd7cf0c73",
     "grade": false,
     "grade_id": "cell-abc5bc0d1f57c982",
     "locked": true,
     "schema_version": 3,
     "solution": false,
     "task": false
    }
   },
   "source": [
    "Next thing we need is to fill in the request body. If you check the documentation you'll see that the ```audio-features``` endpoint takes the following query parameters.\n",
    "\n",
    "<img src=\"https://www.dropbox.com/s/s4zs6wlue0u16cu/body.png?raw=1\" width=\"500\">\n",
    "\n",
    "Hence, the final thing you need to extract data about Radiohead's Creep song is to locate its ```id```. This is its unique identifier. Spotify has unique ids for tracks, for artists, for albums, for playlists, etc.\n",
    "\n",
    "![Creep](https://www.dropbox.com/s/kufj6ww2yn069gb/creep.png?raw=1)\n",
    "\n",
    "You can get the ```id``` for any song by going to Spotify, looking for the song, clicking the “…” by the song name, then “Share” and then “Copy Spotify URI”. \n",
    "\n",
    "<div class=\"alert alert-warning\">Note that this procedure also works for retrieving ids for artists, albums or any other resource type. Alternatively, you can also retrieve the id for a song or a playlist by clicking \"...\" by the name, then \"Share\" and the \"Copy Link\". This will return a full link to the resource. The id corresponds to the string right after the last slash sign / and before the ? sign</div>\n",
    "\n",
    "This URI should be a string that includes something like **spotify:track:**, followed by an alphanumeric sequence. This sequence is the ID you are looking for.\n",
    "\n",
    "<div class=\"alert alert-info\">Create a new variable called <b>track_id</b> that stores the ID for Radiohead's song Creep.</div>"
   ]
  },
  {
   "cell_type": "code",
   "execution_count": 36,
   "metadata": {
    "deletable": false,
    "nbgrader": {
     "cell_type": "code",
     "checksum": "e17fd2ba59901974feeb6649ac56a98c",
     "grade": false,
     "grade_id": "cell-a82a3e3a0e9e9b53",
     "locked": false,
     "schema_version": 3,
     "solution": true,
     "task": false
    }
   },
   "outputs": [],
   "source": [
    "track_id = \"70LcF31zb1H0PyJoS1Sx1r?si=e629191aa6674191\""
   ]
  },
  {
   "cell_type": "markdown",
   "metadata": {
    "deletable": false,
    "editable": false,
    "nbgrader": {
     "cell_type": "markdown",
     "checksum": "b23aefb9f4882cae51d7ed3baad9931b",
     "grade": false,
     "grade_id": "cell-b188551976021039",
     "locked": true,
     "schema_version": 3,
     "solution": false,
     "task": false
    }
   },
   "source": [
    "Now that you have the id, let's format the URL of the request and send the actual GET request to retrieve the data:"
   ]
  },
  {
   "cell_type": "code",
   "execution_count": 37,
   "metadata": {
    "deletable": false,
    "nbgrader": {
     "cell_type": "code",
     "checksum": "ce9fb29c199bd5a71d2a894acd4755f2",
     "grade": false,
     "grade_id": "cell-e545a287ebd3c44c",
     "locked": false,
     "schema_version": 3,
     "solution": true,
     "task": false
    }
   },
   "outputs": [],
   "source": [
    "URL = f\"{base_url}/{audio_features_endpoint}/{track_id}\""
   ]
  },
  {
   "cell_type": "markdown",
   "metadata": {
    "deletable": false,
    "editable": false,
    "nbgrader": {
     "cell_type": "markdown",
     "checksum": "9467de516c25f6745a72b2ef1e7d49bf",
     "grade": false,
     "grade_id": "cell-2316de9d4e91bc6f",
     "locked": true,
     "schema_version": 3,
     "solution": false,
     "task": false
    }
   },
   "source": [
    "Now that everything is ready, you can send the actual GET request to retrieve the data.\n",
    "\n",
    "<div class=\"alert alert-info\">Remember to pass the <i>url</i>, the <i>headers</i> and the <i>params</i> dictionary as arguments to the <i>get</i> function. Convert the response to <i>json</i> format and store it in a new variable called <b>creep</b>.</div>"
   ]
  },
  {
   "cell_type": "code",
   "execution_count": 38,
   "metadata": {
    "deletable": false,
    "nbgrader": {
     "cell_type": "code",
     "checksum": "eacef4de7311638564220f7d50dba5a0",
     "grade": false,
     "grade_id": "cell-6374d923d8f04079",
     "locked": false,
     "schema_version": 3,
     "solution": true,
     "task": false
    }
   },
   "outputs": [
    {
     "data": {
      "text/plain": [
       "{'danceability': 0.515,\n",
       " 'energy': 0.43,\n",
       " 'key': 7,\n",
       " 'loudness': -9.935,\n",
       " 'mode': 1,\n",
       " 'speechiness': 0.0372,\n",
       " 'acousticness': 0.0097,\n",
       " 'instrumentalness': 0.000133,\n",
       " 'liveness': 0.129,\n",
       " 'valence': 0.104,\n",
       " 'tempo': 91.844,\n",
       " 'type': 'audio_features',\n",
       " 'id': '70LcF31zb1H0PyJoS1Sx1r',\n",
       " 'uri': 'spotify:track:70LcF31zb1H0PyJoS1Sx1r',\n",
       " 'track_href': 'https://api.spotify.com/v1/tracks/70LcF31zb1H0PyJoS1Sx1r',\n",
       " 'analysis_url': 'https://api.spotify.com/v1/audio-analysis/70LcF31zb1H0PyJoS1Sx1r',\n",
       " 'duration_ms': 238640,\n",
       " 'time_signature': 4}"
      ]
     },
     "execution_count": 38,
     "metadata": {},
     "output_type": "execute_result"
    }
   ],
   "source": [
    "response = requests.get(URL, headers=headers, params=params)\n",
    "creep = response.json()\n",
    "creep"
   ]
  },
  {
   "cell_type": "markdown",
   "metadata": {
    "deletable": false,
    "editable": false,
    "nbgrader": {
     "cell_type": "markdown",
     "checksum": "c02401130bf7126deee5228a054cb612",
     "grade": false,
     "grade_id": "cell-238505ce76d4ddd7",
     "locked": true,
     "schema_version": 3,
     "solution": false,
     "task": false
    }
   },
   "source": [
    "\n",
    "<div class=\"alert alert-warning\">Often Spotify has several instances of a track in its catalogue, each available in a different set of markets. This commonly happens when the track the album is on has been released multiple times under different licenses in different markets. These tracks are linked together so that when a user tries to play a track that isn’t available in their own market, the Spotify mobile, desktop, and web players try to play another instance of the track that is available in the user’s market. Even if this issue won't prevent you from being able to play the  song in your device, it might result in different ids for the different markets. Note that the test below is written taking the values for the Spanish market into account.</div>\n",
    "\n",
    "<div class=\"alert alert-warning\">Note that you can specify the market for this and for future queries through the <i>market</i> parameter.</div>"
   ]
  },
  {
   "cell_type": "markdown",
   "metadata": {
    "deletable": false,
    "editable": false,
    "nbgrader": {
     "cell_type": "markdown",
     "checksum": "d02c9564a4f4c64a0d9e545d52e9472a",
     "grade": false,
     "grade_id": "cell-3790f150aa3bd111",
     "locked": true,
     "schema_version": 3,
     "solution": false,
     "task": false
    }
   },
   "source": [
    "Congrats! You just made your first successful request to Spotify's API! Feel free to take a look at the information included in the response. Pay special attention to the way in which information is presented. Once you are done, let's move on to some actual work!\n",
    "\n",
    "## Getting data from a playlist\n",
    "\n",
    "In the following exercise you will build a dataset containing data about different songs. You can either use a playlist of your own, or use the one mentioned in the documentation.\n",
    "\n",
    "\n",
    "<div class=\"alert alert-info\">Create a variable called <b>playlist_id</b> that stores the id of your playlist of choice.</div>\n",
    "\n",
    "<div class=\"alert alert-warning\">Your <i>playlist_id</i> should contain only alphanumeric characters. This means that characters such as ? $ % & / ! should not be included.</div>"
   ]
  },
  {
   "cell_type": "code",
   "execution_count": 39,
   "metadata": {
    "deletable": false,
    "nbgrader": {
     "cell_type": "code",
     "checksum": "377615366ec30368b06c647398581176",
     "grade": false,
     "grade_id": "cell-ebb88e4537ea519b",
     "locked": false,
     "schema_version": 3,
     "solution": true,
     "task": false
    }
   },
   "outputs": [],
   "source": [
    "playlist_id = \"2yT5G3PPy1h7MyPQ4gNme6\""
   ]
  },
  {
   "cell_type": "markdown",
   "metadata": {
    "deletable": false,
    "editable": false,
    "nbgrader": {
     "cell_type": "markdown",
     "checksum": "35965b4c55e55a07e1bdaba1cb24da69",
     "grade": false,
     "grade_id": "cell-238505c76d4ddd7",
     "locked": true,
     "schema_version": 3,
     "solution": false,
     "task": false
    }
   },
   "source": [
    "In the following you are going to extract information about the different tracks included in this playlist. Hence, let's make sure that the variabl ei spropelry created and that it refers to an actual id."
   ]
  },
  {
   "cell_type": "markdown",
   "metadata": {
    "deletable": false,
    "editable": false,
    "nbgrader": {
     "cell_type": "markdown",
     "checksum": "1cfa21b57db7c7743507f990bb9e6ce8",
     "grade": false,
     "grade_id": "cell-a618363337ae0889",
     "locked": true,
     "schema_version": 3,
     "solution": false,
     "task": false
    }
   },
   "source": [
    "The next step will be making a request to get full details of the tracks included in your chosen playlist. Remember that you can take a look at all the information available at the different endpoints in Spotify's API by reading the [Docs](https://developer.spotify.com/documentation/web-api/reference/). Locate the right endpoint for your query and read the Docs to find out how to build your request. \n",
    "\n",
    "<div class=\"alert alert-info\"><b>Exercise 1 </b>Write the code to retrieve all the items from your chosen playlist from the <i>tracks</i> endpoint. When making your request don't use any of the optional arguments. Direct your request to the right endpoint instead. Store the <i>raw</i> response in a new variable called <i>playlist_response</i>.\n",
    "</div>\n",
    "\n",
    "<div class=\"alert alert-warning\">To complete this exercise you must use the requests library</div>"
   ]
  },
  {
   "cell_type": "code",
   "execution_count": 40,
   "metadata": {},
   "outputs": [],
   "source": [
    "playlist_endpoint = \"playlists\"\n",
    "URL = f\"{base_url}/{playlist_endpoint}/{playlist_id}\""
   ]
  },
  {
   "cell_type": "code",
   "execution_count": 41,
   "metadata": {
    "deletable": false,
    "nbgrader": {
     "cell_type": "code",
     "checksum": "3416f03882927817c5373de161fb4a59",
     "grade": false,
     "grade_id": "ex1",
     "locked": false,
     "schema_version": 3,
     "solution": true,
     "task": false
    }
   },
   "outputs": [],
   "source": [
    "playlist_response = requests.get(URL, headers=headers, params=params)"
   ]
  },
  {
   "cell_type": "markdown",
   "metadata": {
    "deletable": false,
    "editable": false,
    "nbgrader": {
     "cell_type": "markdown",
     "checksum": "62c645efcef9330afd1ce627f148c949",
     "grade": false,
     "grade_id": "cell-a0e2648807398f17",
     "locked": true,
     "schema_version": 3,
     "solution": false,
     "task": false
    }
   },
   "source": [
    "<div class=\"alert alert-info\"><b>Exercise 2 </b>Convert the response to JSON format and store the result in a new variable called <i>playlist</i>.</div>"
   ]
  },
  {
   "cell_type": "code",
   "execution_count": 42,
   "metadata": {
    "deletable": false,
    "nbgrader": {
     "cell_type": "code",
     "checksum": "e312a6da82f8c4bc37df98d9182e9662",
     "grade": false,
     "grade_id": "ex2",
     "locked": false,
     "schema_version": 3,
     "solution": true,
     "task": false
    }
   },
   "outputs": [],
   "source": [
    "playlist = playlist_response.json()"
   ]
  },
  {
   "cell_type": "markdown",
   "metadata": {
    "deletable": false,
    "editable": false,
    "nbgrader": {
     "cell_type": "markdown",
     "checksum": "b51517101346973dbf5fbd08ee139254",
     "grade": false,
     "grade_id": "cell-037d31ddebe9044",
     "locked": true,
     "schema_version": 3,
     "solution": false,
     "task": false
    }
   },
   "source": [
    "The following cells contain the tests that will grade your code. **Don't modify them**. Simply leave them as they are."
   ]
  },
  {
   "cell_type": "markdown",
   "metadata": {
    "deletable": false,
    "editable": false,
    "nbgrader": {
     "cell_type": "markdown",
     "checksum": "6807f8df03b3fa6532a0da803a849c9d",
     "grade": false,
     "grade_id": "cell-8d3092be4da0c3a5",
     "locked": true,
     "schema_version": 3,
     "solution": false,
     "task": false
    }
   },
   "source": [
    "Take your time to familiarize yourself with the data and how they are presented. Note that, by default, Spotify's API only returns information about a maximum of 100 tracks in a playlist. If your playlist of choice has more that 100 tracks, you'll retrieve the data only for the first 100 of them.\n",
    "\n",
    "<div class=\"alert alert-danger\">Throghout the following exercises you may come across data that are missing. If so, encode these data using a <b>None</b> (Nonetype), unless otherwise stated. </div>\n",
    "\n",
    "## Retrieving basic track information\n",
    "\n",
    "In what follows, you are going to retrieve specific data for each of the tracks contained in your playlist.\n",
    "\n",
    "<div class=\"alert alert-info\"><b>Exercise 3 </b>Write the code to extract the title (in string form), the name of the album (in string form), the name of the artist (in string form), the duration (in integer form), the track number (in integer form), the popularity (in integer form), and the id (in string form) for all the tracks included in your chosen playlist. Store these data in separate lists called <i>title</i>, <i>album</i>, <i>artist</i>, <i>duration</i>, <i>track_number</i>, <i>track_popularity</i>, and <i>track_id</i>, respectively. In those cases where more than one value is available for these items, retain only the first. In all cases, entries should appear in the same order as they are presented in the playlist.<br></div>\n",
    "\n",
    "<div class=\"alert alert-warning\">Make sure you correctly set all variable names. They have to be written <b>exactly</b> as given in the instructions.</div>"
   ]
  },
  {
   "cell_type": "code",
   "execution_count": 43,
   "metadata": {
    "deletable": false,
    "nbgrader": {
     "cell_type": "code",
     "checksum": "69b315830f2239f6d81c0964227610ff",
     "grade": false,
     "grade_id": "ex3",
     "locked": false,
     "schema_version": 3,
     "solution": true,
     "task": false
    }
   },
   "outputs": [],
   "source": [
    "title = []\n",
    "album = []\n",
    "artist = []\n",
    "duration = []\n",
    "track_number = []\n",
    "track_popularity = []\n",
    "track_id = []\n",
    "\n",
    "playlist_tracks = playlist[\"tracks\"]\n",
    "\n",
    "for i in playlist_tracks[\"items\"]:\n",
    "    track = i[\"track\"]\n",
    "\n",
    "    title.append(track[\"name\"])\n",
    "    album.append(track['album']['name'])\n",
    "    artist.append(track['artists'][0]['name'])  \n",
    "    duration.append(track['duration_ms'])\n",
    "    track_number.append(track['track_number'])\n",
    "    track_popularity.append(track['popularity'])\n",
    "    track_id.append(track['id'])"
   ]
  },
  {
   "cell_type": "markdown",
   "metadata": {
    "deletable": false,
    "editable": false,
    "nbgrader": {
     "cell_type": "markdown",
     "checksum": "9ec592f30299b2b3f6703a3f1238685e",
     "grade": false,
     "grade_id": "cell-88a7d979725303b7",
     "locked": true,
     "schema_version": 3,
     "solution": false,
     "task": false
    }
   },
   "source": [
    "<div class=\"alert alert-info\"><b>Exercise 4 </b>Write the code to extract the number of available markets (in integer form) for all the tracks included in your chosen playlist. Store these data in a separate list called <i>n_available_markets</i>. As above, entries in this list should appear in the same order as they are presented in the playlist.</div>"
   ]
  },
  {
   "cell_type": "code",
   "execution_count": 44,
   "metadata": {
    "deletable": false,
    "nbgrader": {
     "cell_type": "code",
     "checksum": "00ef2091bcd0c6ccc4ed66e901f1fff9",
     "grade": false,
     "grade_id": "ex4",
     "locked": false,
     "schema_version": 3,
     "solution": true,
     "task": false
    }
   },
   "outputs": [],
   "source": [
    "n_available_markets = []\n",
    "\n",
    "for i in playlist_tracks[\"items\"]:\n",
    "    track = i[\"track\"]\n",
    "\n",
    "    n_available_markets.append(len(track[\"available_markets\"]))"
   ]
  },
  {
   "cell_type": "markdown",
   "metadata": {
    "deletable": false,
    "editable": false,
    "nbgrader": {
     "cell_type": "markdown",
     "checksum": "ffa744f04c46a3643bdd71527e8902d4",
     "grade": false,
     "grade_id": "cell-8d32be4da0c3a5",
     "locked": true,
     "schema_version": 3,
     "solution": false,
     "task": false
    }
   },
   "source": [
    "Each track in the playlist is associated to an album. Let's retrieve the corresponding release date.\n",
    "\n",
    "<div class=\"alert alert-info\"><b>Exercise 5 </b>Write the code to extract the release year (in int form) and month (in string form) for all the tracks included in your chosen playlist. Store these data in separate lists called <i>release_year</i> and <i>release_month</i>, respectively. Entries should appear in these lists in the same order as they are presented in the playlist.</div>\n",
    "\n",
    "<div class=\"alert alert-warning\">Make sure you correctly set the variable names. They have to be written <b>exactly</b> as given in the instructions.</div>\n",
    "\n",
    "<div class=\"alert alert-warning\">Months should be stored with their full names and capitalized: use <i>September</i> for 09, <i>January</i> for 01, etc.</div>"
   ]
  },
  {
   "cell_type": "code",
   "execution_count": 45,
   "metadata": {},
   "outputs": [],
   "source": [
    "from datetime import datetime\n",
    "\n",
    "release_year = []\n",
    "release_month = []\n",
    "\n",
    "for i in playlist_tracks[\"items\"]:\n",
    "    \n",
    "    track = i[\"track\"]\n",
    "\n",
    "    if track[\"album\"][\"release_date_precision\"] == \"day\":\n",
    "        date = track[\"album\"][\"release_date\"]\n",
    "        year, month, day = date.split(\"-\")\n",
    "        release_year.append(int(year))\n",
    "        month_name = datetime.strptime(month, '%m').strftime('%B')\n",
    "        release_month.append(month_name)\n",
    "\n",
    "    elif track[\"album\"][\"release_date_precision\"] == \"year\":\n",
    "        date = track[\"album\"][\"release_date\"]\n",
    "        release_year.append(int(year))\n",
    "        release_month.append(None)\n",
    "\n",
    "    elif track[\"album\"][\"release_date_precision\"] == \"month\":\n",
    "        date = track[\"album\"][\"release_date\"]\n",
    "        year, month = date.split(\"-\")\n",
    "        release_year.append(int(year))\n",
    "        month_name = datetime.strptime(month, '%m').strftime('%B')\n",
    "        release_month.append(month_name)"
   ]
  },
  {
   "cell_type": "markdown",
   "metadata": {
    "deletable": false,
    "editable": false,
    "nbgrader": {
     "cell_type": "markdown",
     "checksum": "e71ef5c87e0e3b31b2f371c94d15ccc3",
     "grade": false,
     "grade_id": "cell-df3ba3a1867a9931",
     "locked": true,
     "schema_version": 3,
     "solution": false,
     "task": false
    }
   },
   "source": [
    "## Retrieving additional track information\n",
    "\n",
    "In what follows, you are going to retrieve additional data for each of the tracks contained in your playlist.\n",
    "\n",
    "<div class=\"alert alert-info\"><b>Exercise 6 </b>Write the code to extract data about the danceability, energy, loudness, mode, speechiness, acousticness, instrumentalness, liveness, valence and tempo for all the tracks included in your chosen playlist. Store these data in separate lists called <i>danceability</i> (in float form), <i>energy</i>, <i>loudness</i> (in float form), <i>mode</i> (in int form), <i>speechiness</i> (in float form), <i>acousticness</i> (in float form), <i>instrumentalness</i> (in int and float form), <i>liveness</i> (in float form), <i>valence</i> (in float form) and <i>tempo</i> (in float form), respectively. In those cases where more than one value is available for these items, retain only the first. In all cases, entries should appear in the same order as they are presented in the playlist.</div>"
   ]
  },
  {
   "cell_type": "code",
   "execution_count": 46,
   "metadata": {
    "deletable": false,
    "nbgrader": {
     "cell_type": "code",
     "checksum": "a5d70d0859a7e9513d16031567e1eb90",
     "grade": false,
     "grade_id": "ex6",
     "locked": false,
     "schema_version": 3,
     "solution": true,
     "task": false
    }
   },
   "outputs": [],
   "source": [
    "danceability = []\n",
    "energy = []\n",
    "loudness = []\n",
    "mode = []\n",
    "speechiness = []\n",
    "acousticness = []\n",
    "instrumentalness = []\n",
    "liveness = []\n",
    "valence = []\n",
    "tempo = []\n",
    "\n",
    "for i in playlist_tracks[\"items\"]:\n",
    "    track = i[\"track\"]\n",
    "    track_id = track[\"id\"]\n",
    "    URL = f\"{base_url}/{audio_features_endpoint}/{track_id}\"\n",
    "\n",
    "    track_response = requests.get(URL, headers=headers, params=params)\n",
    "    track_response = track_response.json()\n",
    "\n",
    "    if isinstance(track_response[\"danceability\"], list):\n",
    "        danceability.append(track_response[\"danceability\"][0])\n",
    "    else:\n",
    "        danceability.append(track_response[\"danceability\"])\n",
    "\n",
    "    if isinstance(track_response[\"energy\"], list):\n",
    "        energy.append(track_response[\"energy\"][0])\n",
    "    else:\n",
    "        energy.append(track_response[\"energy\"])\n",
    "\n",
    "    if isinstance(track_response[\"loudness\"], list):\n",
    "        loudness.append(track_response[\"loudness\"][0])\n",
    "    else:\n",
    "        loudness.append(track_response[\"loudness\"])\n",
    "\n",
    "    if isinstance(track_response[\"mode\"], list):\n",
    "        mode.append(track_response[\"mode\"][0])\n",
    "    else:\n",
    "        mode.append(track_response[\"mode\"])\n",
    "\n",
    "    if isinstance(track_response[\"speechiness\"], list):\n",
    "        speechiness.append(track_response[\"speechiness\"][0])\n",
    "    else:\n",
    "        speechiness.append(track_response[\"speechiness\"])\n",
    "\n",
    "    if isinstance(track_response[\"acousticness\"], list):\n",
    "        acousticness.append(track_response[\"acousticness\"][0])\n",
    "    else:\n",
    "        acousticness.append(track_response[\"acousticness\"])\n",
    "\n",
    "    if isinstance(track_response[\"instrumentalness\"], list):\n",
    "        instrumentalness.append(track_response[\"instrumentalness\"][0])\n",
    "    else:\n",
    "        instrumentalness.append(track_response[\"instrumentalness\"])\n",
    "\n",
    "    if isinstance(track_response[\"liveness\"], list):\n",
    "        liveness.append(track_response[\"liveness\"][0])\n",
    "    else:\n",
    "        liveness.append(track_response[\"liveness\"])\n",
    "\n",
    "    if isinstance(track_response[\"valence\"], list):\n",
    "        valence.append(track_response[\"valence\"][0])\n",
    "    else:\n",
    "        valence.append(track_response[\"valence\"])\n",
    "\n",
    "    if isinstance(track_response[\"tempo\"], list):\n",
    "        tempo.append(track_response[\"tempo\"][0])\n",
    "    else:\n",
    "        tempo.append(track_response[\"tempo\"])"
   ]
  },
  {
   "cell_type": "markdown",
   "metadata": {
    "deletable": false,
    "editable": false,
    "nbgrader": {
     "cell_type": "markdown",
     "checksum": "a405231ae585bbc3a5f306f6ea0b5711",
     "grade": false,
     "grade_id": "cell-c010209bd688cd0d",
     "locked": true,
     "schema_version": 3,
     "solution": false,
     "task": false
    }
   },
   "source": [
    "## Retrieving artist information\n",
    "\n",
    "In what follows, you are going to retrieve data about the artists for each of the tracks contained in your playlist.\n",
    "\n",
    "<div class=\"alert alert-info\"><b>Exercise 7 </b>Write the code to extract data about the total number of followers (in int form), the first listed genre (in string form) and the popularity (in int form) for the artists of all the tracks included in your chosen playlist. Store these data in separate lists called <i>artist_followers</i>, <i>genre</i> and <i>artist_popularity</i>. In cases where no genre is given, fill in the corresponding entry using a None.</div>\n",
    "\n",
    "<div class=\"alert alert-warning\">Note that the artist information has to to be extracted from the tracks themselves.</div>"
   ]
  },
  {
   "cell_type": "code",
   "execution_count": 47,
   "metadata": {},
   "outputs": [],
   "source": [
    "artists_endpoint = \"artists\""
   ]
  },
  {
   "cell_type": "code",
   "execution_count": 48,
   "metadata": {},
   "outputs": [
    {
     "data": {
      "text/plain": [
       "[{'external_urls': {'spotify': 'https://open.spotify.com/artist/5Pb27ujIyYb33zBqVysBkj'},\n",
       "  'href': 'https://api.spotify.com/v1/artists/5Pb27ujIyYb33zBqVysBkj',\n",
       "  'id': '5Pb27ujIyYb33zBqVysBkj',\n",
       "  'name': 'RÜFÜS DU SOL',\n",
       "  'type': 'artist',\n",
       "  'uri': 'spotify:artist:5Pb27ujIyYb33zBqVysBkj'}]"
      ]
     },
     "execution_count": 48,
     "metadata": {},
     "output_type": "execute_result"
    }
   ],
   "source": [
    "playlist_tracks[\"items\"][0][\"track\"][\"artists\"]"
   ]
  },
  {
   "cell_type": "code",
   "execution_count": 49,
   "metadata": {
    "deletable": false,
    "nbgrader": {
     "cell_type": "code",
     "checksum": "05ebfb30357af4a09ab8968990db619c",
     "grade": false,
     "grade_id": "ex7",
     "locked": false,
     "schema_version": 3,
     "solution": true,
     "task": false
    }
   },
   "outputs": [],
   "source": [
    "artist_followers = []\n",
    "genre = []\n",
    "artist_popularity = []\n",
    "\n",
    "for i in playlist_tracks[\"items\"]:\n",
    "    track = i[\"track\"]\n",
    "    for artist in track[\"artists\"]:\n",
    "        artist_id = artist[\"id\"]\n",
    "        URL = f\"{base_url}/{artists_endpoint}/{artist_id}\"\n",
    "\n",
    "        artist_response = requests.get(URL, headers=headers, params=params)\n",
    "        artist_response = artist_response.json()\n",
    "\n",
    "        #followers\n",
    "        artist_followers.append(int(artist_response[\"followers\"][\"total\"]))\n",
    "        \n",
    "        # genre\n",
    "        if len(artist_response[\"genres\"]) == 0:\n",
    "            genre.append(None)\n",
    "        else:\n",
    "            genre.append(artist_response[\"genres\"][0])\n",
    "\n",
    "        # popularity\n",
    "        artist_popularity.append(int(artist_response[\"popularity\"]))\n"
   ]
  },
  {
   "cell_type": "code",
   "execution_count": 50,
   "metadata": {},
   "outputs": [
    {
     "name": "stdout",
     "output_type": "stream",
     "text": [
      "[1840068, 734996, 734996, 713852, 10223909, 7496977, 1507248, 636657, 548450, 5828894, 636657, 668059, 668059, 5828894, 734996, 88161, 986069, 958808, 475331, 10255909, 10255909]\n",
      "['australian electropop', 'electronica', 'electronica', 'progressive metal', 'electro', 'funk', 'ambient', 'downtempo', 'melodic house', 'new wave', 'downtempo', 'electronica', 'electronica', 'new wave', 'electronica', 'destroy techno', 'german techno', 'downtempo', 'classic dubstep', 'atl hip hop', 'atl hip hop']\n",
      "[77, 58, 58, 55, 82, 72, 67, 63, 68, 78, 63, 58, 58, 78, 58, 43, 60, 64, 51, 81, 81]\n"
     ]
    }
   ],
   "source": [
    "print(artist_followers)\n",
    "print(genre)\n",
    "print(artist_popularity)"
   ]
  },
  {
   "cell_type": "markdown",
   "metadata": {
    "deletable": false,
    "editable": false,
    "nbgrader": {
     "cell_type": "markdown",
     "checksum": "db4c914d0fa765ad272cd5dc0be9aac0",
     "grade": false,
     "grade_id": "cell-9ecab2625396c364",
     "locked": true,
     "schema_version": 3,
     "solution": false,
     "task": false
    }
   },
   "source": [
    "In addition to the above, there's also additional information we can retrieve about each artist. For this purpose, let's first retrieve the list of distinct artists for the different tracks in your playlist.\n",
    "\n",
    "<div class=\"alert alert-info\"><b>Exercise 8 </b>Write the code to identify the list of unique artist ids that correspond to the different tracks in your chosen playlist. Store these data in a list called <i>unique_artist_ids</i>.</div>\n",
    "\n",
    "<div class=\"alert alert-warning\">Retrieve the artist ids that correspod directly to the tracks.</div>"
   ]
  },
  {
   "cell_type": "code",
   "execution_count": 51,
   "metadata": {
    "deletable": false,
    "nbgrader": {
     "cell_type": "code",
     "checksum": "c74d955df7802975bc8cebc0eda973ff",
     "grade": false,
     "grade_id": "ex8",
     "locked": false,
     "schema_version": 3,
     "solution": true,
     "task": false
    }
   },
   "outputs": [],
   "source": [
    "artists_ids = []\n",
    "\n",
    "for i in playlist_tracks[\"items\"]:\n",
    "    track = i[\"track\"]\n",
    "    for artist in track[\"artists\"]:\n",
    "        artist_id = artist[\"id\"]\n",
    "        artists_ids.append(artist_id)\n",
    "        \n",
    "artists_ids_unique = set(artists_ids)\n"
   ]
  },
  {
   "cell_type": "markdown",
   "metadata": {
    "deletable": false,
    "editable": false,
    "nbgrader": {
     "cell_type": "markdown",
     "checksum": "08baffc9a1cae24419188e5dae161362",
     "grade": false,
     "grade_id": "cell-0d2317b25f3086db",
     "locked": true,
     "schema_version": 3,
     "solution": false,
     "task": false
    }
   },
   "source": [
    "We are now interested in retrieving catalog information about each artist’s top tracks. This information is provided by Spotify's API on a country basis. Here, we will retrieve the information corresponding to Spain, whose *ISO 3166-1 alpha-2* code is **ES**. The information we are looking for is stored under the ```top-tracks``` endpoint for ```artists```. Requests to this location retrieve the 10 most famous tracks for a given artist id.\n",
    "\n",
    "<div class=\"alert alert-info\"><b>Exercise 9 </b>Write the code to retrieve the 10 top tracks for each of the unique artists in your chosen playlist. Store these data in a dictionary called <i>top_tracks</i>. The keys of this dictionary should correspond to the unique artist ids stored in the list <i>unique_artist_id</i>. The values of this dictionary should include the names of the 10 most popular songs in a list.</div>\n",
    "\n",
    "<div class=\"alert alert-warning\">In cases where the number of tracks included in the top-tracks endpoint is below 10, simply retrieve the provided list.</div>\n"
   ]
  },
  {
   "cell_type": "code",
   "execution_count": 52,
   "metadata": {
    "deletable": false,
    "nbgrader": {
     "cell_type": "code",
     "checksum": "b8a1f9a9de9f54db0b178f5d7ed616df",
     "grade": false,
     "grade_id": "ex9",
     "locked": false,
     "schema_version": 3,
     "solution": true,
     "task": false
    }
   },
   "outputs": [],
   "source": [
    "top_tracks_endpoint = \"top-tracks\"\n",
    "\n",
    "top_tracks = {}\n",
    "\n",
    "for artist in artists_ids_unique:\n",
    "    URL = f\"{base_url}/{artists_endpoint}/{artist_id}/{top_tracks_endpoint}\"\n",
    "\n",
    "    artist_top10_response = requests.get(URL, headers=headers, params=params)\n",
    "    artist_top10_response = artist_top10_response.json()\n",
    "\n",
    "    l = []\n",
    "\n",
    "    for top_track in artist_top10_response[\"tracks\"]:\n",
    "        l.append(top_track[\"name\"])\n",
    "    \n",
    "    top_tracks[artist] = l"
   ]
  },
  {
   "cell_type": "code",
   "execution_count": 53,
   "metadata": {},
   "outputs": [],
   "source": [
    "top_tracks_endpoint = \"top-tracks\"\n",
    "\n",
    "top_tracks = {}\n",
    "\n",
    "for artist in artists_ids_unique:\n",
    "    URL = f\"{base_url}/{artists_endpoint}/{artist}/{top_tracks_endpoint}\" # esta línea estaba mal en la entrega que hice\n",
    "\n",
    "    artist_top10_response = requests.get(URL, headers=headers, params=params)\n",
    "    artist_top10_response = artist_top10_response.json()\n",
    "\n",
    "    l = []\n",
    "\n",
    "    for top_track in artist_top10_response[\"tracks\"]:\n",
    "        l.append(top_track[\"name\"])\n",
    "    \n",
    "    top_tracks[artist] = l"
   ]
  },
  {
   "cell_type": "markdown",
   "metadata": {
    "deletable": false,
    "editable": false,
    "nbgrader": {
     "cell_type": "markdown",
     "checksum": "598ab9bbceee257c752d8fed3e69d2ba",
     "grade": false,
     "grade_id": "cell-0c2042a55fe8b990",
     "locked": true,
     "schema_version": 3,
     "solution": false,
     "task": false
    }
   },
   "source": [
    "We can now use this information to identify those songs in your chosen playlist that correspond to each artist's top tracks.\n",
    "\n",
    "<div class=\"alert alert-info\"><b>Exercise 10 </b>Write the code to check whether the different tracks in your chosen playlist are included among the corresponding artist's top tracks. Store the results in a list called <i>is_top</i>. This list should include the boolean value <i>True</i> whenever the considered track is among the top tracks for that artist and <i>False</i> otherwise.</div>\n",
    "\n",
    "<div class=\"alert alert-warning\">When comparing track names, consider only <b>exact</b> matches.</div>"
   ]
  },
  {
   "cell_type": "code",
   "execution_count": 62,
   "metadata": {},
   "outputs": [
    {
     "data": {
      "text/plain": [
       "21"
      ]
     },
     "execution_count": 62,
     "metadata": {},
     "output_type": "execute_result"
    }
   ],
   "source": [
    "is_top = []\n",
    "\n",
    "for j in playlist_tracks[\"items\"]:\n",
    "    track_name = j[\"track\"][\"name\"]\n",
    "    for artist in j[\"track\"][\"artists\"]:\n",
    "        artist_id = artist[\"id\"]\n",
    "        if artist_id in top_tracks.keys():\n",
    "            top_track_names = top_tracks[artist_id]\n",
    "            is_top.append(track_name in top_track_names)"
   ]
  },
  {
   "cell_type": "markdown",
   "metadata": {
    "deletable": false,
    "editable": false,
    "nbgrader": {
     "cell_type": "markdown",
     "checksum": "0dccfe4fc33aa05c40316b3cb03d2d07",
     "grade": false,
     "grade_id": "cell-323fccc65e8ccb6b",
     "locked": true,
     "schema_version": 3,
     "solution": false,
     "task": false
    }
   },
   "source": [
    "A very interesting feature in Spotify is the song recommender.\n",
    "\n",
    "When creating a playlist from scratch, Spotify offers help by suggesting additional tracks that may be related to the ones already added. Spotify's API also provides a specific endpoint for `recommendations`. We will use this endpoint to retrieve one recommendation for each song in our original playlist.\n",
    "\n",
    "<div class=\"alert alert-info\"><b>Exercise 11 </b>Write the code to retrieve the id, title and artist from the list of recommendations for each track in your playlist. Store these data in new lists called <i>recommendatin_id</i>, <i>recommendation_title</i> and <i>recommendation_artist</i>.</div>\n",
    "\n",
    "<div class=\"alert alert-warning\">Retrieve recommendations based solely on each track.</div>\n",
    "\n",
    "<div class=\"alert alert-warning\">Retrieve information only about the first track in the recommendations list.</div>\n",
    "\n",
    "<div class=\"alert alert-warning\">When more than one artist is associated to the recommended track, retrieve information only about the first.</div>"
   ]
  },
  {
   "cell_type": "code",
   "execution_count": 57,
   "metadata": {
    "deletable": false,
    "nbgrader": {
     "cell_type": "code",
     "checksum": "9bc38d5c50156b9e03266f89791676b7",
     "grade": false,
     "grade_id": "ex11",
     "locked": false,
     "schema_version": 3,
     "solution": true,
     "task": false
    }
   },
   "outputs": [],
   "source": [
    "recommendations_endpoint = \"recommendations\"\n",
    "\n",
    "recommendation_id = []\n",
    "recommendation_title = []\n",
    "recommendation_artist = []\n",
    "\n",
    "for i in playlist_tracks[\"items\"]:\n",
    "    track_id = i[\"track\"][\"id\"]\n",
    "\n",
    "    URL = f\"{base_url}/{recommendations_endpoint}/?seed_tracks={track_id}\"\n",
    "    recommendation_response = requests.get(URL, headers=headers, params=params)\n",
    "    recommendation = recommendation_response.json()\n",
    "\n",
    "    track_recommendation = recommendation[\"tracks\"][0]\n",
    "    recommendation_id.append(track_recommendation[\"id\"])\n",
    "    recommendation_title.append(track_recommendation[\"name\"])\n",
    "    recommendation_artist.append(track_recommendation[\"artists\"][0][\"name\"])"
   ]
  },
  {
   "cell_type": "markdown",
   "metadata": {
    "deletable": false,
    "editable": false,
    "nbgrader": {
     "cell_type": "markdown",
     "checksum": "c9649d0d6eb59b0c86ec4ad28945be00",
     "grade": false,
     "grade_id": "cell-18f63b901cde101a",
     "locked": true,
     "schema_version": 3,
     "solution": false,
     "task": false
    }
   },
   "source": [
    "## Bonus exercise\n",
    "\n",
    "You can complete the exercises below to obtain extra points. These points will be added to your score directly. The maximum score in this assignment is a 10.\n",
    "\n",
    "<div class=\"alert alert-danger\"><b>Bonus 1 </b>Write the code to find the most popular song in your playlist. If several songs have the same popularity, choose the one for which the artist has the most followers. Save the name of the song to a new variable called <i>most_popular</i>. This variable should <b>only</b> contain the name of the most popular song in string form.</div>"
   ]
  },
  {
   "cell_type": "code",
   "execution_count": 58,
   "metadata": {},
   "outputs": [],
   "source": [
    "popularities = {}\n",
    "popularities[\"track_name\"] = []\n",
    "popularities[\"track_id\"] = []\n",
    "popularities[\"track_popularity\"] = []\n",
    "\n",
    "for i in playlist_tracks[\"items\"]:\n",
    "    track = i[\"track\"]\n",
    "    track_id = track[\"id\"]\n",
    "    track_name = track[\"name\"]\n",
    "\n",
    "\n",
    "    track_popularity = track['popularity']\n",
    "    # popularities[(track_name, track_id)] = track_popularity\n",
    "    popularities[\"track_name\"].append(track_name)\n",
    "    popularities[\"track_id\"].append(track_id)\n",
    "    popularities[\"track_popularity\"].append(track_popularity)\n",
    "\n",
    "import pandas as pd\n",
    "popularities = pd.DataFrame(popularities)\n",
    "popularities.sort_values(\"track_popularity\", ascending=False).iloc[0]\n",
    "most_popular = popularities.sort_values(\"track_popularity\", ascending=False).loc[0,\"track_name\"] # esta líne a está mal, debería haber utilizado iloc de nuevo."
   ]
  },
  {
   "cell_type": "markdown",
   "metadata": {
    "deletable": false,
    "editable": false,
    "nbgrader": {
     "cell_type": "markdown",
     "checksum": "04075ef2db7f903e21e67acf3eb9212f",
     "grade": false,
     "grade_id": "cell-9ce6fe0f415cb12b",
     "locked": true,
     "schema_version": 3,
     "solution": false,
     "task": false
    }
   },
   "source": [
    "You might have noticed that there exist slight incosistencies in the way in which the track title are included in the playlist, versus the top 10 artist tracks. For example, the fourht song in the provided playlist appears as <i>High And Dry</i> within the title of the playlist songs but as <i>High and Dry</i> (with a small \"a\" for the word \"and\") in the Radiohead's top tracks. This results in the fact that the song of the playlist will not be included as one of the artist's top tracks in the is_top list.\n",
    "\n",
    "<div class=\"alert alert-danger\"><b>Bonus 2 </b>Write the code to create a new list called <i>is_top_2</i>. This time make sure that you look for partial matches of title names too.</div>"
   ]
  },
  {
   "cell_type": "code",
   "execution_count": 59,
   "metadata": {
    "deletable": false,
    "nbgrader": {
     "cell_type": "code",
     "checksum": "9a0c89e02effb8580c44c29b67676568",
     "grade": false,
     "grade_id": "b2",
     "locked": false,
     "schema_version": 3,
     "solution": true,
     "task": false
    }
   },
   "outputs": [],
   "source": [
    "is_top = []\n",
    "\n",
    "def normalize_string(s):\n",
    "    special_characters = [\n",
    "    \".\", \",\", \":\", \";\", \"!\", \"?\", \"'\", \"\\\"\", \"-\", \"_\", \"...\", \"(\", \")\", \"[\", \"]\", \"{\", \"}\",\n",
    "    \"+\", \"-\", \"*\", \"/\", \"%\", \"=\", \"<\", \">\", \"&\", \"|\", \"^\", \"~\", \"#\", \"$\", \"@\",\n",
    "    \"\\\\\", \"/\", \"\\n\", \"\\t\", \":\", \"°\", \"©\", \"®\", \"™\", \"§\", \"·\",\n",
    "    \"á\", \"é\", \"í\", \"ó\", \"ú\", \"ñ\", \"ü\",\n",
    "    \"€\", \"£\", \"¥\", \"₹\", \"₿\", \"¢\",\n",
    "    \"==\", \"!=\", \"<=\", \">=\"\n",
    "    ]\n",
    "\n",
    "    s = s.lower()\n",
    "    s = s.replace(\" \",\"\")\n",
    "    for char in special_characters:\n",
    "        s = s.replace(char,\"\")\n",
    "    \n",
    "    return s\n",
    "\n",
    "for j in playlist_tracks[\"items\"]:\n",
    "    track_name = j[\"track\"][\"name\"]\n",
    "    for artist in j[\"track\"][\"artists\"]:\n",
    "        artist_id = artist[\"id\"]\n",
    "        if artist_id in top_tracks.keys():\n",
    "            top_track_names = top_tracks[artist_id]\n",
    "            top_track_names = [normalize_string(item) for item in top_track_names]\n",
    "            track_name = normalize_string(track_name)\n",
    "            is_top.append(track_name in top_track_names)"
   ]
  }
 ],
 "metadata": {
  "kernelspec": {
   "display_name": "base",
   "language": "python",
   "name": "python3"
  },
  "language_info": {
   "codemirror_mode": {
    "name": "ipython",
    "version": 3
   },
   "file_extension": ".py",
   "mimetype": "text/x-python",
   "name": "python",
   "nbconvert_exporter": "python",
   "pygments_lexer": "ipython3",
   "version": "3.11.7"
  }
 },
 "nbformat": 4,
 "nbformat_minor": 4
}
