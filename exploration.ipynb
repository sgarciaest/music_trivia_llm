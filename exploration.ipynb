{
 "cells": [
  {
   "cell_type": "code",
   "execution_count": 2,
   "metadata": {},
   "outputs": [],
   "source": [
    "import spotipy\n",
    "from spotipy.oauth2 import SpotifyOAuth\n",
    "\n",
    "def get_spotify_client():\n",
    "    return spotipy.Spotify(auth_manager=SpotifyOAuth(\n",
    "        scope=\"user-library-read playlist-read-private\",\n",
    "        client_id=SPOTIFY_CLIENT_ID,\n",
    "        client_secret=SPOTIFY_CLIENT_SECRET,\n",
    "        redirect_uri=REDIRECT_URI\n",
    "    ))\n",
    "\n",
    "def get_user_tracks(sp):\n",
    "    tracks = []\n",
    "    results = sp.current_user_saved_tracks()\n",
    "    while results:\n",
    "        for item in results['items']:\n",
    "            track = item['track']\n",
    "            tracks.append({\n",
    "                'title': track['name'],\n",
    "                'artist': track['artists'][0]['name'],\n",
    "                'album': track['album']['name'],\n",
    "                'release_date': track['album']['release_date']\n",
    "            })\n",
    "        results = sp.next(results)\n",
    "    return tracks\n"
   ]
  },
  {
   "cell_type": "code",
   "execution_count": null,
   "metadata": {},
   "outputs": [
    {
     "ename": "NameError",
     "evalue": "name 'SPOTIFY_CLIENT_ID' is not defined",
     "output_type": "error",
     "traceback": [
      "\u001b[0;31m---------------------------------------------------------------------------\u001b[0m",
      "\u001b[0;31mNameError\u001b[0m                                 Traceback (most recent call last)",
      "Cell \u001b[0;32mIn[4], line 1\u001b[0m\n\u001b[0;32m----> 1\u001b[0m get_spotify_client()\n",
      "Cell \u001b[0;32mIn[2], line 7\u001b[0m, in \u001b[0;36mget_spotify_client\u001b[0;34m()\u001b[0m\n\u001b[1;32m      4\u001b[0m \u001b[38;5;28;01mdef\u001b[39;00m \u001b[38;5;21mget_spotify_client\u001b[39m():\n\u001b[1;32m      5\u001b[0m     \u001b[38;5;28;01mreturn\u001b[39;00m spotipy\u001b[38;5;241m.\u001b[39mSpotify(auth_manager\u001b[38;5;241m=\u001b[39mSpotifyOAuth(\n\u001b[1;32m      6\u001b[0m         scope\u001b[38;5;241m=\u001b[39m\u001b[38;5;124m\"\u001b[39m\u001b[38;5;124muser-library-read playlist-read-private\u001b[39m\u001b[38;5;124m\"\u001b[39m,\n\u001b[0;32m----> 7\u001b[0m         client_id\u001b[38;5;241m=\u001b[39mSPOTIFY_CLIENT_ID,\n\u001b[1;32m      8\u001b[0m         client_secret\u001b[38;5;241m=\u001b[39mSPOTIFY_CLIENT_SECRET,\n\u001b[1;32m      9\u001b[0m         redirect_uri\u001b[38;5;241m=\u001b[39mREDIRECT_URI\n\u001b[1;32m     10\u001b[0m     ))\n",
      "\u001b[0;31mNameError\u001b[0m: name 'SPOTIFY_CLIENT_ID' is not defined"
     ]
    }
   ],
   "source": [
    "get_spotify_client()"
   ]
  },
  {
   "cell_type": "code",
   "execution_count": null,
   "metadata": {},
   "outputs": [],
   "source": []
  }
 ],
 "metadata": {
  "kernelspec": {
   "display_name": "miba-env",
   "language": "python",
   "name": "python3"
  },
  "language_info": {
   "codemirror_mode": {
    "name": "ipython",
    "version": 3
   },
   "file_extension": ".py",
   "mimetype": "text/x-python",
   "name": "python",
   "nbconvert_exporter": "python",
   "pygments_lexer": "ipython3",
   "version": "3.11.11"
  }
 },
 "nbformat": 4,
 "nbformat_minor": 2
}
